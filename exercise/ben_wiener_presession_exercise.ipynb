{
 "cells": [
  {
   "cell_type": "code",
   "execution_count": 2,
   "metadata": {},
   "outputs": [],
   "source": [
    "import pandas as pd\n",
    "import matplotlib.pyplot as plt\n",
    "import numpy as np"
   ]
  },
  {
   "cell_type": "code",
   "execution_count": 3,
   "metadata": {},
   "outputs": [],
   "source": [
    "data = pd.read_csv(\"conversion_data.csv\")"
   ]
  },
  {
   "cell_type": "code",
   "execution_count": 9,
   "metadata": {},
   "outputs": [
    {
     "data": {
      "text/html": [
       "<div>\n",
       "<style scoped>\n",
       "    .dataframe tbody tr th:only-of-type {\n",
       "        vertical-align: middle;\n",
       "    }\n",
       "\n",
       "    .dataframe tbody tr th {\n",
       "        vertical-align: top;\n",
       "    }\n",
       "\n",
       "    .dataframe thead th {\n",
       "        text-align: right;\n",
       "    }\n",
       "</style>\n",
       "<table border=\"1\" class=\"dataframe\">\n",
       "  <thead>\n",
       "    <tr style=\"text-align: right;\">\n",
       "      <th></th>\n",
       "      <th>country</th>\n",
       "      <th>age</th>\n",
       "      <th>new_user</th>\n",
       "      <th>source</th>\n",
       "      <th>total_pages_visited</th>\n",
       "      <th>converted</th>\n",
       "    </tr>\n",
       "  </thead>\n",
       "  <tbody>\n",
       "    <tr>\n",
       "      <th>109646</th>\n",
       "      <td>US</td>\n",
       "      <td>20</td>\n",
       "      <td>1</td>\n",
       "      <td>Seo</td>\n",
       "      <td>3</td>\n",
       "      <td>0</td>\n",
       "    </tr>\n",
       "    <tr>\n",
       "      <th>15206</th>\n",
       "      <td>US</td>\n",
       "      <td>24</td>\n",
       "      <td>1</td>\n",
       "      <td>Ads</td>\n",
       "      <td>4</td>\n",
       "      <td>0</td>\n",
       "    </tr>\n",
       "    <tr>\n",
       "      <th>170963</th>\n",
       "      <td>US</td>\n",
       "      <td>34</td>\n",
       "      <td>1</td>\n",
       "      <td>Ads</td>\n",
       "      <td>4</td>\n",
       "      <td>0</td>\n",
       "    </tr>\n",
       "    <tr>\n",
       "      <th>119803</th>\n",
       "      <td>US</td>\n",
       "      <td>20</td>\n",
       "      <td>1</td>\n",
       "      <td>Direct</td>\n",
       "      <td>2</td>\n",
       "      <td>0</td>\n",
       "    </tr>\n",
       "    <tr>\n",
       "      <th>129351</th>\n",
       "      <td>US</td>\n",
       "      <td>50</td>\n",
       "      <td>1</td>\n",
       "      <td>Ads</td>\n",
       "      <td>2</td>\n",
       "      <td>0</td>\n",
       "    </tr>\n",
       "  </tbody>\n",
       "</table>\n",
       "</div>"
      ],
      "text/plain": [
       "       country  age  new_user  source  total_pages_visited  converted\n",
       "109646      US   20         1     Seo                    3          0\n",
       "15206       US   24         1     Ads                    4          0\n",
       "170963      US   34         1     Ads                    4          0\n",
       "119803      US   20         1  Direct                    2          0\n",
       "129351      US   50         1     Ads                    2          0"
      ]
     },
     "execution_count": 9,
     "metadata": {},
     "output_type": "execute_result"
    }
   ],
   "source": [
    "data.sample(n=5)"
   ]
  },
  {
   "cell_type": "markdown",
   "metadata": {},
   "source": [
    "Above is some sample data showing the available fields. Two of these are purely categorical, the user's country, and the marketing channel source. We will start by considering the non-categorical fields."
   ]
  },
  {
   "cell_type": "code",
   "execution_count": 18,
   "metadata": {},
   "outputs": [
    {
     "data": {
      "text/html": [
       "<div>\n",
       "<style scoped>\n",
       "    .dataframe tbody tr th:only-of-type {\n",
       "        vertical-align: middle;\n",
       "    }\n",
       "\n",
       "    .dataframe tbody tr th {\n",
       "        vertical-align: top;\n",
       "    }\n",
       "\n",
       "    .dataframe thead th {\n",
       "        text-align: right;\n",
       "    }\n",
       "</style>\n",
       "<table border=\"1\" class=\"dataframe\">\n",
       "  <thead>\n",
       "    <tr style=\"text-align: right;\">\n",
       "      <th></th>\n",
       "      <th>age</th>\n",
       "      <th>new_user</th>\n",
       "      <th>total_pages_visited</th>\n",
       "      <th>converted</th>\n",
       "    </tr>\n",
       "  </thead>\n",
       "  <tbody>\n",
       "    <tr>\n",
       "      <th>count</th>\n",
       "      <td>316200.000000</td>\n",
       "      <td>316200.000000</td>\n",
       "      <td>316200.000000</td>\n",
       "      <td>316200.000000</td>\n",
       "    </tr>\n",
       "    <tr>\n",
       "      <th>mean</th>\n",
       "      <td>30.569858</td>\n",
       "      <td>0.685465</td>\n",
       "      <td>4.872966</td>\n",
       "      <td>0.032258</td>\n",
       "    </tr>\n",
       "    <tr>\n",
       "      <th>std</th>\n",
       "      <td>8.271802</td>\n",
       "      <td>0.464331</td>\n",
       "      <td>3.341104</td>\n",
       "      <td>0.176685</td>\n",
       "    </tr>\n",
       "    <tr>\n",
       "      <th>min</th>\n",
       "      <td>17.000000</td>\n",
       "      <td>0.000000</td>\n",
       "      <td>1.000000</td>\n",
       "      <td>0.000000</td>\n",
       "    </tr>\n",
       "    <tr>\n",
       "      <th>25%</th>\n",
       "      <td>24.000000</td>\n",
       "      <td>0.000000</td>\n",
       "      <td>2.000000</td>\n",
       "      <td>0.000000</td>\n",
       "    </tr>\n",
       "    <tr>\n",
       "      <th>50%</th>\n",
       "      <td>30.000000</td>\n",
       "      <td>1.000000</td>\n",
       "      <td>4.000000</td>\n",
       "      <td>0.000000</td>\n",
       "    </tr>\n",
       "    <tr>\n",
       "      <th>75%</th>\n",
       "      <td>36.000000</td>\n",
       "      <td>1.000000</td>\n",
       "      <td>7.000000</td>\n",
       "      <td>0.000000</td>\n",
       "    </tr>\n",
       "    <tr>\n",
       "      <th>max</th>\n",
       "      <td>123.000000</td>\n",
       "      <td>1.000000</td>\n",
       "      <td>29.000000</td>\n",
       "      <td>1.000000</td>\n",
       "    </tr>\n",
       "  </tbody>\n",
       "</table>\n",
       "</div>"
      ],
      "text/plain": [
       "                 age       new_user  total_pages_visited      converted\n",
       "count  316200.000000  316200.000000        316200.000000  316200.000000\n",
       "mean       30.569858       0.685465             4.872966       0.032258\n",
       "std         8.271802       0.464331             3.341104       0.176685\n",
       "min        17.000000       0.000000             1.000000       0.000000\n",
       "25%        24.000000       0.000000             2.000000       0.000000\n",
       "50%        30.000000       1.000000             4.000000       0.000000\n",
       "75%        36.000000       1.000000             7.000000       0.000000\n",
       "max       123.000000       1.000000            29.000000       1.000000"
      ]
     },
     "execution_count": 18,
     "metadata": {},
     "output_type": "execute_result"
    }
   ],
   "source": [
    "data.describe()"
   ]
  },
  {
   "cell_type": "markdown",
   "metadata": {},
   "source": [
    "An important thing to note here is that very few sessions (about 3%) result in a purchase. The site recieves customers with an average age around 30. Overall, this seems to be a young crowd, with 75% below age 36. A modest majority of those customers are visiting for the first time. Customers tend to browse a few pages before they leave."
   ]
  },
  {
   "cell_type": "code",
   "execution_count": 5,
   "metadata": {},
   "outputs": [
    {
     "data": {
      "text/plain": [
       "age                   -0.088797\n",
       "new_user              -0.152374\n",
       "total_pages_visited    0.528994\n",
       "converted              1.000000\n",
       "Name: converted, dtype: float64"
      ]
     },
     "execution_count": 5,
     "metadata": {},
     "output_type": "execute_result"
    }
   ],
   "source": [
    "data.corr()[\"converted\"]"
   ]
  },
  {
   "cell_type": "markdown",
   "metadata": {},
   "source": [
    "Looking at correlations for the numeric data, it seems that older customers and new customers less likely to make a purchase. Customers who stay on the website longer, however, are much more likely to buy something. These trends sound reasonable."
   ]
  },
  {
   "cell_type": "code",
   "execution_count": 179,
   "metadata": {},
   "outputs": [
    {
     "data": {
      "text/plain": [
       "Text(0,0.5,'conversion rate')"
      ]
     },
     "execution_count": 179,
     "metadata": {},
     "output_type": "execute_result"
    },
    {
     "data": {
      "image/png": "[encoded data removed]",
      "text/plain": [
       "<Figure size 432x288 with 1 Axes>"
      ]
     },
     "metadata": {
      "needs_background": "light"
     },
     "output_type": "display_data"
    }
   ],
   "source": [
    "ax = data.groupby(\"total_pages_visited\")[\"converted\"].mean().plot(kind=\"bar\")\n",
    "ax.set_ylabel(\"conversion rate\")"
   ]
  },
  {
   "cell_type": "markdown",
   "metadata": {},
   "source": [
    "The above plot shows the importance of page visits. Customers that visit fewer than 10 pages are unlikely to make a purchase. Customers that visit more than 17 or more pages are virtually guaranteed to."
   ]
  },
  {
   "cell_type": "code",
   "execution_count": 180,
   "metadata": {},
   "outputs": [
    {
     "data": {
      "text/plain": [
       "Text(0,0.5,'conversion rate')"
      ]
     },
     "execution_count": 180,
     "metadata": {},
     "output_type": "execute_result"
    },
    {
     "data": {
      "image/png": "[encoded data removed]",
      "text/plain": [
       "<Figure size 432x288 with 1 Axes>"
      ]
     },
     "metadata": {
      "needs_background": "light"
     },
     "output_type": "display_data"
    }
   ],
   "source": [
    "ax = data.groupby(\"new_user\")[\"converted\"].mean().plot(kind=\"bar\")\n",
    "ax.set_ylabel(\"conversion rate\")"
   ]
  },
  {
   "cell_type": "markdown",
   "metadata": {},
   "source": [
    "The above plot shows that returning users are much more likely to make a purchase."
   ]
  },
  {
   "cell_type": "markdown",
   "metadata": {},
   "source": [
    "# Categorical Fields"
   ]
  },
  {
   "cell_type": "code",
   "execution_count": 17,
   "metadata": {},
   "outputs": [
    {
     "name": "stdout",
     "output_type": "stream",
     "text": [
      "US         178092\n",
      "China       76602\n",
      "UK          48450\n",
      "Germany     13056\n",
      "Name: country, dtype: int64\n",
      "\n",
      "Seo       155040\n",
      "Ads        88740\n",
      "Direct     72420\n",
      "Name: source, dtype: int64\n"
     ]
    }
   ],
   "source": [
    "print(data['country'].value_counts())\n",
    "print()\n",
    "print(data['source'].value_counts())"
   ]
  },
  {
   "cell_type": "markdown",
   "metadata": {},
   "source": [
    "In this dataset, only four countries are represented."
   ]
  },
  {
   "cell_type": "code",
   "execution_count": 44,
   "metadata": {},
   "outputs": [
    {
     "name": "stdout",
     "output_type": "stream",
     "text": [
      "Conversion rate by country:\n",
      "country\n",
      "China      0.001332\n",
      "Germany    0.062500\n",
      "UK         0.052632\n",
      "US         0.037801\n",
      "Name: converted, dtype: float64\n",
      "\n",
      "Conversion rate by source:\n",
      "source\n",
      "Ads       0.034483\n",
      "Direct    0.028169\n",
      "Seo       0.032895\n",
      "Name: converted, dtype: float64\n"
     ]
    }
   ],
   "source": [
    "print(f'Conversion rate by country:\\n{data.groupby(\"country\")[\"converted\"].mean()}')\n",
    "print()\n",
    "print(f'Conversion rate by source:\\n{data.groupby(\"source\")[\"converted\"].mean()}')"
   ]
  },
  {
   "cell_type": "markdown",
   "metadata": {},
   "source": [
    "A quick look at conversion rates for each category shows an important feature. Customers from China very rarely make purchases. Marketing channel source."
   ]
  },
  {
   "cell_type": "code",
   "execution_count": 46,
   "metadata": {},
   "outputs": [
    {
     "data": {
      "text/plain": [
       "Text(0,0.5,'conversion rate')"
      ]
     },
     "execution_count": 46,
     "metadata": {},
     "output_type": "execute_result"
    },
    {
     "data": {
      "image/png": "[encoded data removed]",
      "text/plain": [
       "<Figure size 432x288 with 1 Axes>"
      ]
     },
     "metadata": {
      "needs_background": "light"
     },
     "output_type": "display_data"
    }
   ],
   "source": [
    "ax = data.groupby(\"country\")[\"converted\"].mean().plot(kind=\"bar\")\n",
    "ax.set_ylabel(\"conversion rate\")"
   ]
  },
  {
   "cell_type": "markdown",
   "metadata": {},
   "source": [
    "The above plot makes the conversion rate's dependence on country clear."
   ]
  },
  {
   "cell_type": "code",
   "execution_count": 173,
   "metadata": {},
   "outputs": [],
   "source": [
    "data_dummies = pd.get_dummies(data, prefix=[\"country\", \"source\"]).drop([\"country_US\", \"source_Direct\"],1)\n",
    "data_dummies.columns = map(str.lower, data_dummies.columns)\n"
   ]
  },
  {
   "cell_type": "markdown",
   "metadata": {},
   "source": [
    "For each categorical field, I created an extra dummy field per category. One category from each field is omitted, as it is redundant. I chose to omit country_US and source_Direct. These will become baselines for these fields."
   ]
  },
  {
   "cell_type": "code",
   "execution_count": 174,
   "metadata": {},
   "outputs": [
    {
     "data": {
      "text/html": [
       "<div>\n",
       "<style scoped>\n",
       "    .dataframe tbody tr th:only-of-type {\n",
       "        vertical-align: middle;\n",
       "    }\n",
       "\n",
       "    .dataframe tbody tr th {\n",
       "        vertical-align: top;\n",
       "    }\n",
       "\n",
       "    .dataframe thead th {\n",
       "        text-align: right;\n",
       "    }\n",
       "</style>\n",
       "<table border=\"1\" class=\"dataframe\">\n",
       "  <thead>\n",
       "    <tr style=\"text-align: right;\">\n",
       "      <th></th>\n",
       "      <th>age</th>\n",
       "      <th>new_user</th>\n",
       "      <th>total_pages_visited</th>\n",
       "      <th>converted</th>\n",
       "      <th>country_china</th>\n",
       "      <th>country_germany</th>\n",
       "      <th>country_uk</th>\n",
       "      <th>source_ads</th>\n",
       "      <th>source_seo</th>\n",
       "    </tr>\n",
       "  </thead>\n",
       "  <tbody>\n",
       "    <tr>\n",
       "      <th>304968</th>\n",
       "      <td>36</td>\n",
       "      <td>1</td>\n",
       "      <td>1</td>\n",
       "      <td>0</td>\n",
       "      <td>0</td>\n",
       "      <td>0</td>\n",
       "      <td>0</td>\n",
       "      <td>0</td>\n",
       "      <td>1</td>\n",
       "    </tr>\n",
       "    <tr>\n",
       "      <th>259559</th>\n",
       "      <td>35</td>\n",
       "      <td>1</td>\n",
       "      <td>4</td>\n",
       "      <td>0</td>\n",
       "      <td>1</td>\n",
       "      <td>0</td>\n",
       "      <td>0</td>\n",
       "      <td>0</td>\n",
       "      <td>0</td>\n",
       "    </tr>\n",
       "    <tr>\n",
       "      <th>73646</th>\n",
       "      <td>22</td>\n",
       "      <td>1</td>\n",
       "      <td>6</td>\n",
       "      <td>0</td>\n",
       "      <td>0</td>\n",
       "      <td>0</td>\n",
       "      <td>0</td>\n",
       "      <td>0</td>\n",
       "      <td>1</td>\n",
       "    </tr>\n",
       "    <tr>\n",
       "      <th>214404</th>\n",
       "      <td>25</td>\n",
       "      <td>0</td>\n",
       "      <td>3</td>\n",
       "      <td>0</td>\n",
       "      <td>0</td>\n",
       "      <td>0</td>\n",
       "      <td>0</td>\n",
       "      <td>1</td>\n",
       "      <td>0</td>\n",
       "    </tr>\n",
       "    <tr>\n",
       "      <th>225953</th>\n",
       "      <td>34</td>\n",
       "      <td>1</td>\n",
       "      <td>10</td>\n",
       "      <td>0</td>\n",
       "      <td>0</td>\n",
       "      <td>0</td>\n",
       "      <td>0</td>\n",
       "      <td>1</td>\n",
       "      <td>0</td>\n",
       "    </tr>\n",
       "  </tbody>\n",
       "</table>\n",
       "</div>"
      ],
      "text/plain": [
       "        age  new_user  total_pages_visited  converted  country_china  \\\n",
       "304968   36         1                    1          0              0   \n",
       "259559   35         1                    4          0              1   \n",
       "73646    22         1                    6          0              0   \n",
       "214404   25         0                    3          0              0   \n",
       "225953   34         1                   10          0              0   \n",
       "\n",
       "        country_germany  country_uk  source_ads  source_seo  \n",
       "304968                0           0           0           1  \n",
       "259559                0           0           0           0  \n",
       "73646                 0           0           0           1  \n",
       "214404                0           0           1           0  \n",
       "225953                0           0           1           0  "
      ]
     },
     "execution_count": 174,
     "metadata": {},
     "output_type": "execute_result"
    }
   ],
   "source": [
    "data_dummies.sample(n=5)"
   ]
  },
  {
   "cell_type": "markdown",
   "metadata": {},
   "source": [
    "# Logistic Model"
   ]
  },
  {
   "cell_type": "code",
   "execution_count": 175,
   "metadata": {},
   "outputs": [],
   "source": [
    "from sklearn.linear_model import LogisticRegression\n",
    "from sklearn.dummy import DummyClassifier\n",
    "\n",
    "from sklearn.model_selection import train_test_split\n",
    "\n",
    "X_train, X_test, y_train, y_test = train_test_split(data_dummies.drop([\"converted\"], 1), data_dummies['converted'], random_state=0)\n",
    "lr = LogisticRegression().fit(X_train, y_train)\n",
    "\n",
    "dummy = DummyClassifier().fit(X_train, y_train)\n",
    "dummy_majority = DummyClassifier(strategy='most_frequent').fit(X_train, y_train)"
   ]
  },
  {
   "cell_type": "markdown",
   "metadata": {},
   "source": [
    "I used a logistic model to predict conversion probabilities. It's a simple and natural choice for this binary classification task. The coefficients it finds can be interpreted to find the relative importance of the input fields, which can be used to provide recommendations for the marketing team.\n",
    "\n",
    "I split up the data into training and test sets. I also trained two dumb classifiers for comparison. One classifies randomly with a convertion probability that respects that of the data set. The other classifies every point with the most common answer in the original data set. In this case, that's converted=0."
   ]
  },
  {
   "cell_type": "code",
   "execution_count": 154,
   "metadata": {},
   "outputs": [
    {
     "data": {
      "image/png": "[encoded data removed]",
      "text/plain": [
       "<Figure size 432x288 with 1 Axes>"
      ]
     },
     "metadata": {
      "needs_background": "light"
     },
     "output_type": "display_data"
    }
   ],
   "source": [
    "weights = {name: w for (name, w) in zip(X_train.columns, lr.coef_[0])}\n",
    "intercept = lr.intercept_[0]\n",
    "\n",
    "plt.figure()\n",
    "plt.scatter(data_dummies[data_dummies[\"converted\"]==0.][\"age\"],data_dummies[data_dummies[\"converted\"]==0.][\"total_pages_visited\"], s=1)\n",
    "plt.scatter(data_dummies[data_dummies[\"converted\"]==1.][\"age\"],data_dummies[data_dummies[\"converted\"]==1.][\"total_pages_visited\"], s=1)\n",
    "x = np.linspace(0, 100, 1000)\n",
    "plt.plot(x, -intercept - (weights[\"age\"]/weights[\"total_pages_visited\"] * x));\n",
    "plt.xlabel(\"age\")\n",
    "plt.ylabel(\"total_pages_visited\")\n",
    "\n",
    "plt.show()"
   ]
  },
  {
   "cell_type": "markdown",
   "metadata": {},
   "source": [
    "The above plot shows a slice of the data with the logistic regression result. Orange dots indicate sessions that resulted in purchase. Blue dots indicate sessions that didn't. The blue line shows a projection of the decision boundary. "
   ]
  },
  {
   "cell_type": "code",
   "execution_count": 181,
   "metadata": {},
   "outputs": [
    {
     "name": "stdout",
     "output_type": "stream",
     "text": [
      "-0.077 ← age\n",
      "-1.678 ← new_user\n",
      "0.756 ← total_pages_visited\n",
      "-3.292 ← country_china\n",
      "0.603 ← country_germany\n",
      "0.347 ← country_uk\n",
      "0.213 ← source_ads\n",
      "0.158 ← source_seo\n",
      "\n",
      "0.00073 ← intercept\n"
     ]
    }
   ],
   "source": [
    "for (name, b) in zip(X_train.columns,lr.coef_[0]):\n",
    "    print(f'{b:.3f} ← {name}')\n",
    "\n",
    "print()\n",
    "print(f'{np.exp(lr.intercept_[0]):.5f} ← intercept')"
   ]
  },
  {
   "cell_type": "markdown",
   "metadata": {},
   "source": [
    "The coefficients from the logistic regression show the effect of each field. \n",
    "\n",
    "Older customers are less likely to make purchases. Each year of age corresponds to a small decrease in purchase probabiliy.\n",
    "\n",
    "New customers are less likely to make purchases. This agrees with our earlier analysis. Being a new customer is equivalent to being twenty years older.\n",
    "\n",
    "Customers that visit more pages are much more likely to make purchases. This agrees with our earlier analysis. Each page visited is equivalent to being ten years younger.\n",
    "\n",
    "As we saw earlier, country is an important field. Because customers from China make purchases much less frequently, the country_china coefficient is large and negative. Sessions from Germany and the UK are somewhat more effective than those from the US, and correspondingly have small positive coefficients. In terms of conversion probability, a customer from China is equivalent to one from the US who is 40 years older.\n",
    "\n",
    "Source doesn't seem to have a strong effect, but customers that arrive via search engines or ad clicks are more likely to make a purchase. Arriving via an ad is equivalent to being about three years younger."
   ]
  },
  {
   "cell_type": "code",
   "execution_count": 194,
   "metadata": {},
   "outputs": [
    {
     "name": "stdout",
     "output_type": "stream",
     "text": [
      "Training score 0.9862745098039216\n",
      "\n",
      "Test score 0.9857938013915244\n",
      "Dummy score 0.9367994939911448\n",
      "Most Frequent score 0.9671473750790639\n"
     ]
    }
   ],
   "source": [
    "print(f'Training score {lr.score(X_train, y_train)}')\n",
    "print()\n",
    "print(f'Test score {lr.score(X_test, y_test)}')\n",
    "print(f'Dummy score {dummy.score(X_test, y_test)}')\n",
    "print(f'Most Frequent score {dummy_majority.score(X_test, y_test)}')"
   ]
  },
  {
   "cell_type": "markdown",
   "metadata": {},
   "source": [
    "Above are the results of the models on the test data set. The logistic model correctly predicted whether a session would result in a purchase 99% of the time. This isn't as impressive as it sounds. Random guessing and always guessing 'no purchase' also agree with the data 94% and 97% of the time. This is a bad test, because the answers are so lopsided, with almost all sessions resulting in no purchase."
   ]
  },
  {
   "cell_type": "code",
   "execution_count": 192,
   "metadata": {},
   "outputs": [
    {
     "name": "stdout",
     "output_type": "stream",
     "text": [
      "Logistic Regression f1 score 0.7584426758442676\n",
      "Dummy f1 score 0.03136787770498312\n"
     ]
    }
   ],
   "source": [
    "from sklearn.metrics import f1_score\n",
    "\n",
    "print(f'Logistic Regression f1 score {f1_score(y_test, lr.predict(X_test))}')\n",
    "print(f'Dummy f1 score {f1_score(y_test, dummy.predict(X_test))}')"
   ]
  },
  {
   "cell_type": "markdown",
   "metadata": {},
   "source": [
    "The $F_1$ score accounts for this lopsided data. This metric shows the logistic regression to be meaningfully more predictive than random guessing."
   ]
  },
  {
   "cell_type": "markdown",
   "metadata": {},
   "source": [
    "## Conclusion"
   ]
  },
  {
   "cell_type": "markdown",
   "metadata": {},
   "source": [
    "Overall, there are useful conclusions to be drawn here. The advertising team could target younger customers and customers who have already visited once. They could also advertise more in Europe and less in China.\n",
    "\n",
    "Because customers that spend more time on the site are more likely to buy something, the website could be tweaked with this in mind.\n",
    "\n",
    "Perhaps the product team could offer items that appeal more to older customers and to customers in China.\n",
    "\n",
    "It may be that the correlation between page visits and purchase probability does not imply causation in the way we have suggested. Customers that buy a product probably need to access several extra pages to complete the purchase. The extra page views could result from the purchase itself, and not the other way around. Maybe cart and checkout pages could be excluded from the page view count in future data sets.\n",
    "\n",
    "The age data seems a little fishy. Someone who was 126 used this website? No one below 17? These self-reported ages could be flawed. Age histograms don't show any pattern that is obvious to me, though."
   ]
  }
 ],
 "metadata": {
  "kernelspec": {
   "display_name": "Python 3",
   "language": "python",
   "name": "python3"
  },
  "language_info": {
   "codemirror_mode": {
    "name": "ipython",
    "version": 3
   },
   "file_extension": ".py",
   "mimetype": "text/x-python",
   "name": "python",
   "nbconvert_exporter": "python",
   "pygments_lexer": "ipython3",
   "version": "3.7.0"
  }
 },
 "nbformat": 4,
 "nbformat_minor": 2
}
